{
 "cells": [
  {
   "cell_type": "markdown",
   "metadata": {},
   "source": [
    "## eDSL A: Correct-by-construction PeriodSeries (with provenance)\n",
    "#### Lef Ioannidis (@elefthei) : Investment Engineer, Bridgewater Associates"
   ]
  },
  {
   "cell_type": "markdown",
   "metadata": {},
   "source": [
    "### First some minimal dependencies."
   ]
  },
  {
   "cell_type": "code",
   "execution_count": 1,
   "metadata": {},
   "outputs": [
    {
     "data": {
      "application/vnd.jupyter.widget-view+json": {
       "model_id": "",
       "version_major": 2,
       "version_minor": 0
      },
      "method": "display_data"
     },
     "metadata": {},
     "output_type": "display_data"
    },
    {
     "data": {
      "application/vnd.jupyter.widget-view+json": {
       "model_id": "212423c8-996c-4c8b-b90a-609d4ead0583",
       "version_major": 2,
       "version_minor": 0
      },
      "method": "display_data"
     },
     "metadata": {},
     "output_type": "display_data"
    },
    {
     "data": {
      "application/vnd.jupyter.widget-view+json": {
       "model_id": "",
       "version_major": 2,
       "version_minor": 0
      },
      "method": "display_data"
     },
     "metadata": {},
     "output_type": "display_data"
    },
    {
     "data": {
      "application/vnd.jupyter.widget-view+json": {
       "model_id": "6c8e9214-3dd0-4d6e-965c-fe007fdb2a2a",
       "version_major": 2,
       "version_minor": 0
      },
      "method": "display_data"
     },
     "metadata": {},
     "output_type": "display_data"
    },
    {
     "data": {
      "text/plain": [
       "$line25.$read$$iw$$iw$$iw$$iw$$iw$$iw$$iw$$iw$$iw$$iw$$iw$$iw$$iw$$iw$$iw$$iw$$iw$$iw$$iw$$iw$$anon$1@18efc879"
      ]
     },
     "execution_count": 1,
     "metadata": {},
     "output_type": "execute_result"
    }
   ],
   "source": [
    "%classpath add mvn joda-time joda-time 2.10.5\n",
    "%classpath add mvn org.typelevel cats-core_2.12 2.1.0\n",
    "import org.joda.time.DateTime\n",
    "import org.joda.time.Duration\n",
    "import org.joda.time.format.DateTimeFormat\n",
    "import java.io.File\n",
    "import org.joda.time.format.DateTimeFormatter\n",
    "import scala.io.Source\n",
    "import scala.collection.mutable.ArrayBuffer\n",
    "import scala.math.Ordered._\n",
    "import cats.data.State\n",
    "\n",
    "// Dates are ordered\n",
    "implicit val DateTimeOrdered = new Ordering[DateTime] {\n",
    "    override def compare(x: DateTime, y: DateTime): Int = x.getMillis.compare(y.getMillis)\n",
    "}"
   ]
  },
  {
   "cell_type": "markdown",
   "metadata": {},
   "source": [
    "### Problem: Too many runtime errors when combining different frequencies\n",
    "### Solution: Index the Series on Frequency type"
   ]
  },
  {
   "cell_type": "code",
   "execution_count": null,
   "metadata": {},
   "outputs": [],
   "source": [
    "  sealed trait Frequency\n",
    "  sealed abstract class FrequencyValue[F <: Frequency] {\n",
    "    def days: Int\n",
    "  }\n",
    "\n",
    "  object Frequency {\n",
    "    sealed trait Daily extends Frequency\n",
    "    sealed trait Monthly extends Frequency\n",
    "    sealed trait Quarterly extends Frequency\n",
    "    sealed trait Yearly extends Frequency\n",
    "\n",
    "    case object Daily extends FrequencyValue[Daily] {\n",
    "      override def days: Int = 1\n",
    "    }\n",
    "    case object Monthly extends FrequencyValue[Monthly] {\n",
    "      override def days: Int = 30\n",
    "    }\n",
    "    case object Quarterly extends FrequencyValue[Quarterly] {\n",
    "      override def days: Int = 30 * 3\n",
    "    }\n",
    "    case object Yearly extends FrequencyValue[Yearly] {\n",
    "      override def days: Int = 365\n",
    "    }\n",
    "  }"
   ]
  },
  {
   "cell_type": "code",
   "execution_count": null,
   "metadata": {},
   "outputs": [],
   "source": [
    "case class PeriodSeries[F <: Frequency](data: Array[Double], frequency: FrequencyValue[F], base: DateTime)"
   ]
  },
  {
   "cell_type": "markdown",
   "metadata": {},
   "source": [
    "### We promoted Frequency from an Enum value to a Sum type.\n",
    "#### Surely we can now copy+paste the rest of our code..."
   ]
  },
  {
   "cell_type": "code",
   "execution_count": null,
   "metadata": {},
   "outputs": [],
   "source": [
    "  implicit class StringFreqValueParser(s: String) {\n",
    "    def fromString[F <: Frequency]: FrequencyValue[F] =\n",
    "      s match {\n",
    "        case \"Yearly\" => Frequency.Yearly\n",
    "        case \"Monthly\" => Frequency.Monthly\n",
    "        case \"Quarterly\" => Frequency.Quarterly\n",
    "        case \"Daily\" => Frequency.Daily\n",
    "      }\n",
    "  }"
   ]
  },
  {
   "cell_type": "markdown",
   "metadata": {},
   "source": [
    "### There's no Dependent Types in Scala. One day in the future we'll be able to do this.\n",
    "#### But today, we need to improvise!"
   ]
  },
  {
   "cell_type": "code",
   "execution_count": null,
   "metadata": {},
   "outputs": [],
   "source": [
    "object CSV {\n",
    "    def loadMonthlyData(csv: String): PeriodSeries[Frequency.Monthly] = {\n",
    "      val file = Source.fromFile(csv).getLines().toSeq\n",
    "      require(file.head == \"Monthly\", \"Cannot load Data which not Monthly with this method\")\n",
    "      val base = DateTime.parse(file.tail.head, DateTimeFormat.forPattern(\"yyyy\"))\n",
    "      val data = file.tail.tail.map(_.toDouble).toArray\n",
    "      PeriodSeries(data, Frequency.Monthly, base)\n",
    "    }\n",
    "    def loadQuarterlyData(csv: String): PeriodSeries[Frequency.Quarterly] = {\n",
    "      val file = Source.fromFile(csv).getLines().toSeq\n",
    "      require(file.head == \"Quarterly\", \"Cannot load Data which not Quarterly with this method\")\n",
    "      val base = DateTime.parse(file.tail.head, DateTimeFormat.forPattern(\"yyyy\"))\n",
    "      val data = file.tail.tail.map(_.toDouble).toArray\n",
    "      PeriodSeries(data, Frequency.Quarterly, base)\n",
    "    }\n",
    "    def loadYearlyData(csv: String): PeriodSeries[Frequency.Yearly] = {\n",
    "      val file = Source.fromFile(csv).getLines().toSeq\n",
    "      require(file.head == \"Yearly\", \"Cannot load Data which not Yearly with this method\")\n",
    "      val base = DateTime.parse(file.tail.head, DateTimeFormat.forPattern(\"yyyy\"))\n",
    "      val data = file.tail.tail.map(_.toDouble).toArray\n",
    "      PeriodSeries(data, Frequency.Yearly, base)\n",
    "    }\n",
    "}\n"
   ]
  },
  {
   "cell_type": "markdown",
   "metadata": {},
   "source": [
    "### This error shows that types are not magic, although they may feel like it.\n",
    "#### If the user cannot figure out a type, the compiler can't either"
   ]
  },
  {
   "cell_type": "markdown",
   "metadata": {},
   "source": [
    "## Let's see the results of our  work"
   ]
  },
  {
   "cell_type": "code",
   "execution_count": null,
   "metadata": {},
   "outputs": [],
   "source": [
    "// Plot them\n",
    "implicit class PeriodSeriesPlotting[F <: Frequency](ps: PeriodSeries[F]) {\n",
    "  private def toTicks(): Seq[(DateTime, Double)] = \n",
    "    ps.data.toIndexedSeq.zipWithIndex.map {\n",
    "        case (d, i) => (ps.base.plusDays(ps.frequency.days * i), d) \n",
    "    }\n",
    "  def plot(name: String, yname: String): SimpleTimePlot = \n",
    "    new SimpleTimePlot {\n",
    "      title = name\n",
    "      data = toTicks.map { case(t, d) => Map(yname -> d, \"time\" -> t.toDate()) }\n",
    "      columns = Seq(yname)\n",
    "    }\n",
    "  def plot(): SimpleTimePlot = plot(\"Timeseries\", \"y\")\n",
    "}"
   ]
  },
  {
   "cell_type": "code",
   "execution_count": null,
   "metadata": {},
   "outputs": [],
   "source": [
    "CSV.loadMonthlyData(\"acme-stocks/stocks-1.txt\").plot()"
   ]
  },
  {
   "cell_type": "markdown",
   "metadata": {},
   "source": [
    "### Great, now let's port the math from before into the PeriodSeries[F] implementation"
   ]
  },
  {
   "cell_type": "code",
   "execution_count": null,
   "metadata": {},
   "outputs": [],
   "source": [
    " implicit class PeriodSeriesMath[F <: Frequency](ps: PeriodSeries[F]) {\n",
    "    import scala.math.Ordered._\n",
    "    def length: Int = ps.data.length\n",
    "    def first: Double = ps.data.head\n",
    "    def enddate: DateTime =\n",
    "      ps.base.plusDays(ps.frequency.days * ps.data.length)\n",
    "    def last: Double = ps.data.last\n",
    "    def vol: Double = {\n",
    "      val avg = ps.data.sum / ps.data.size\n",
    "      math.sqrt(ps.data.map(a => math.pow(a - avg, 2)).sum) / ps.data.length\n",
    "    }\n",
    "\n",
    "    def roll(f: PeriodSeries[F] => Double, window: Int = 2): PeriodSeries[F] = {\n",
    "      require(ps.data.length > window, \"Window too big for small dataset\")\n",
    "      var i = 0\n",
    "      val result: ArrayBuffer[Double] = ArrayBuffer()\n",
    "      while (i + window < ps.data.length) {\n",
    "        val newps = ps.copy(data = ps.data.slice(i, i + window))\n",
    "        result.append(f(newps))\n",
    "        i += 1\n",
    "      }\n",
    "      PeriodSeries(result.toArray, ps.frequency, ps.base)\n",
    "    }\n",
    "\n",
    "    def intersection(other: PeriodSeries[F], op: (Double, Double) => Double): PeriodSeries[F] = {\n",
    "      val ord = Ordering[DateTime]\n",
    "      require(ord.max(ps.base, other.base) <= ord.min(ps.enddate, other.enddate), \"Cannot zip PeriodSeries that do not overlap\")\n",
    "      ps.copy(data = ps.data.zip(other.data).map((p: (Double, Double)) => op(p._1, p._2)), base = ord.max(ps.base, other.base))\n",
    "    }\n",
    "    def rollVol(window: Int = 10): PeriodSeries[F] = roll(_.vol, window)\n",
    "    def +(other: PeriodSeries[F]): PeriodSeries[F] = intersection(other, _ + _)\n",
    "    def -(other: PeriodSeries[F]): PeriodSeries[F] = intersection(other, _ - _)\n",
    "    def *(other: PeriodSeries[F]): PeriodSeries[F] = intersection(other, _ * _)\n",
    "    def /(other: PeriodSeries[F]): PeriodSeries[F] = intersection(other, _ / _)\n",
    "  }"
   ]
  },
  {
   "cell_type": "markdown",
   "metadata": {},
   "source": [
    "## Everything we have so far returns `PeriodSeries [F]`\n",
    "### But what if we actually want to change frequencies.\n",
    "### For `upSample`/`downSample` we need a richer relation; a Typeclass."
   ]
  },
  {
   "cell_type": "code",
   "execution_count": null,
   "metadata": {},
   "outputs": [],
   "source": [
    "trait Gt[Small <: Frequency, Large <: Frequency] {\n",
    "  def smaller: FrequencyValue[Small]\n",
    "  def large: FrequencyValue[Large]\n",
    "}\n",
    "object Gt {\n",
    "  import Frequency.{Daily, Monthly, Quarterly, Yearly}\n",
    "    \n",
    "  implicit val dailyLtMonthly: Gt[Daily, Monthly] = new Gt[Daily, Monthly] {\n",
    "    override def smaller: FrequencyValue[Daily] = Daily\n",
    "    override def large: FrequencyValue[Monthly] = Monthly\n",
    "  }\n",
    "  implicit val dailyLtQuarterly: Gt[Daily, Quarterly] = new Gt[Daily, Quarterly] {\n",
    "    override def smaller: FrequencyValue[Daily] = Daily\n",
    "    override def large: FrequencyValue[Quarterly] = Quarterly\n",
    "  }\n",
    "  implicit val dailyLtYearly: Gt[Daily, Yearly] = new Gt[Daily, Yearly] {\n",
    "    override def smaller: FrequencyValue[Daily] = Daily\n",
    "    override def large: FrequencyValue[Yearly] = Yearly\n",
    "  }\n",
    "  implicit val monthlyLtYearly: Gt[Monthly, Yearly] = new Gt[Monthly, Yearly] {\n",
    "    override def smaller: FrequencyValue[Monthly] = Monthly\n",
    "    override def large: FrequencyValue[Yearly] = Yearly\n",
    "  }\n",
    "  implicit val monthlyLtQuarterly: Gt[Monthly, Quarterly] = new Gt[Monthly, Quarterly] {\n",
    "    override def smaller: FrequencyValue[Monthly] = Monthly\n",
    "    override def large: FrequencyValue[Quarterly] = Quarterly\n",
    "  }\n",
    "  implicit val quarterlyLtYearly: Gt[Quarterly, Yearly] = new Gt[Quarterly, Yearly] {\n",
    "    override def smaller: FrequencyValue[Quarterly] = Quarterly\n",
    "    override def large: FrequencyValue[Yearly] = Yearly\n",
    "  }\n",
    "}"
   ]
  },
  {
   "cell_type": "markdown",
   "metadata": {},
   "source": [
    "### Now we can express upSampling and downSampling in the type-level."
   ]
  },
  {
   "cell_type": "code",
   "execution_count": null,
   "metadata": {},
   "outputs": [],
   "source": [
    "  // Interpolation\n",
    "  implicit class PeriodSeriesExtensions[F <: Frequency](ps: PeriodSeries[F]) {\n",
    "    private def interpolate(first: Double, second: Double, steps: Int): Array[Double] =\n",
    "      (0 to steps).map(_ * (second - first) / steps).map(_ + first).toArray\n",
    "\n",
    "    def downSample[FF <: Frequency](newfreq: FrequencyValue[FF])(implicit lt: Gt[F, FF]) : PeriodSeries[FF] = {\n",
    "      val step: Int = lt.large.days / lt.smaller.days\n",
    "      def groupByNum[A](s: Iterable[A], n: Int): Iterable[Iterable[A]] =\n",
    "        if(n == 0) {\n",
    "          Seq()\n",
    "        } else if(s.size <= n) {\n",
    "          Seq(s)\n",
    "        } else {\n",
    "          val (left, right) = s.splitAt(n)\n",
    "          Seq(left) ++ groupByNum(right.tail, n)\n",
    "        }\n",
    "      ps.copy(data = groupByNum(ps.data, step).map(data => data.sum / data.size).toArray, frequency = lt.large)\n",
    "    }\n",
    "\n",
    "    def upSample[FF <: Frequency](newfreq: FrequencyValue[FF])(implicit lt: Gt[FF, F]): PeriodSeries[FF] = {\n",
    "      val steps = lt.large.days / lt.smaller.days\n",
    "      val seq = ps.data.toIndexedSeq.zipWithIndex.flatMap {\n",
    "        case (_, i) if i < ps.data.length - 1 => interpolate(ps.data(i), ps.data(i + 1), steps)\n",
    "        case (d, _) => Array(d)\n",
    "      }.toArray\n",
    "      ps.copy(data = seq, frequency = lt.smaller)\n",
    "    }\n",
    "  }"
   ]
  },
  {
   "cell_type": "markdown",
   "metadata": {},
   "source": [
    "### Make sure everything works with the frequency-indexed PeriodSeries."
   ]
  },
  {
   "cell_type": "code",
   "execution_count": null,
   "metadata": {},
   "outputs": [],
   "source": [
    "val stocks = CSV.loadMonthlyData(\"acme-stocks/stocks-1.txt\")\n",
    "stocks.upSample(Frequency.Daily).plot()"
   ]
  },
  {
   "cell_type": "markdown",
   "metadata": {},
   "source": [
    "### Summary\n",
    "1. ~Promoted frequendy errors to compile-time.~\n",
    "2. **Promote bad math to runtime errors.**\n",
    "3. Provenance of operations."
   ]
  },
  {
   "cell_type": "code",
   "execution_count": null,
   "metadata": {},
   "outputs": [],
   "source": [
    "// Bad!\n",
    "stocks.upSample(Frequency.Daily).rollVol(12).plot()"
   ]
  },
  {
   "cell_type": "code",
   "execution_count": null,
   "metadata": {},
   "outputs": [],
   "source": [
    "// Good\n",
    "stocks.rollVol(12).upSample(Frequency.Daily).plot()"
   ]
  },
  {
   "cell_type": "markdown",
   "metadata": {},
   "source": [
    "# eDSL A: PeriodSeriesAlgebra"
   ]
  },
  {
   "cell_type": "markdown",
   "metadata": {},
   "source": [
    "### Here's the AST (Abstract Syntax Tree) for our first eDSL. It Reifies elementary statistics operations to a GADT."
   ]
  },
  {
   "cell_type": "markdown",
   "metadata": {},
   "source": [
    "**Reify** : (verb, transitive) to regard something abstract as if it were a concrete material thing\n",
    "\n",
    "**GADT**  : An ADT, with extra type constraints"
   ]
  },
  {
   "cell_type": "code",
   "execution_count": null,
   "metadata": {},
   "outputs": [],
   "source": [
    "  sealed trait PeriodSeriesAlgebra[F <: Frequency] {\n",
    "    def eval: PeriodSeries[F] = this match {\n",
    "      // Catch bad outcomes before they happen\n",
    "      case Roll(Upsample(_, _, _), _, _) =>\n",
    "        throw new AssertionError(\"Attempting to take a rolling window stats over an interpolated series, you probably want to switch the order of operations here\")\n",
    "      case Roll(self, f, window) => self.eval.roll(f, window)\n",
    "      case Upsample(self, newfreq, gt) => self.eval.upSample(newfreq = newfreq)(gt)\n",
    "      case Downsample(self, newfreq, gt) => self.eval.downSample(newfreq = newfreq)(gt)\n",
    "      case Intersect(self, other, op) => self.eval.intersection(other.eval, op)\n",
    "      case Pure(self) => self\n",
    "    }\n",
    "  }\n",
    "  case class Roll[F <: Frequency](self: PeriodSeriesAlgebra[F], f: PeriodSeries[F] => Double, window: Int) extends PeriodSeriesAlgebra[F]\n",
    "  case class Upsample[F <: Frequency, FF <: Frequency](self: PeriodSeriesAlgebra[F], freq: FrequencyValue[FF], gt: Gt[FF, F]) extends PeriodSeriesAlgebra[FF]\n",
    "  case class Downsample[F <: Frequency, FF <: Frequency](self: PeriodSeriesAlgebra[F], freq: FrequencyValue[FF], gt: Gt[F, FF]) extends PeriodSeriesAlgebra[FF]\n",
    "  case class Intersect[F <: Frequency](self: PeriodSeriesAlgebra[F], other: PeriodSeriesAlgebra[F], op: (Double, Double) => Double) extends PeriodSeriesAlgebra[F]\n",
    "  case class Pure[F <: Frequency](p: PeriodSeries[F]) extends PeriodSeriesAlgebra[F]"
   ]
  },
  {
   "cell_type": "markdown",
   "metadata": {},
   "source": [
    "### The GADT suspends computation of PeriodSeries[F] and allows us to treat logic like an object.\n",
    "### Here's some syntactic sugar for our eDSL"
   ]
  },
  {
   "cell_type": "code",
   "execution_count": null,
   "metadata": {},
   "outputs": [],
   "source": [
    "  // Some Syntactic sugar for our eDSL\n",
    "  implicit class PeridSeriesPure[F <: Frequency](ps: PeriodSeries[F]){\n",
    "      def reify: PeriodSeriesAlgebra[F] = Pure(ps)\n",
    "  }\n",
    "  implicit class PeriodSeriesAlgebraSyntax[F <: Frequency](self: PeriodSeriesAlgebra[F]) {\n",
    "    def rollVol(window: Int = 10): PeriodSeriesAlgebra[F] = Roll(self, _.vol, window)\n",
    "    def upSample[FF <: Frequency](newfreq: FrequencyValue[FF])(implicit ev: Gt[FF, F]): PeriodSeriesAlgebra[FF] = Upsample[F, FF](self, newfreq, ev)\n",
    "    def downSample[FF <: Frequency](newfreq: FrequencyValue[FF])(implicit ev: Gt[F, FF]): PeriodSeriesAlgebra[FF] = Downsample[F, FF](self, newfreq, ev)\n",
    "    def +(other: PeriodSeriesAlgebra[F]): PeriodSeriesAlgebra[F] = Intersect(self, other, _ + _)\n",
    "    def -(other: PeriodSeriesAlgebra[F]): PeriodSeriesAlgebra[F] = Intersect(self, other, _ - _)\n",
    "    def *(other: PeriodSeriesAlgebra[F]): PeriodSeriesAlgebra[F] = Intersect(self, other, _ * _)\n",
    "    def /(other: PeriodSeriesAlgebra[F]): PeriodSeriesAlgebra[F] = Intersect(self, other, _ / _)\n",
    "    def plot() = self.eval.plot() \n",
    "  }"
   ]
  },
  {
   "cell_type": "markdown",
   "metadata": {},
   "source": [
    "### Is PeriodSeriesAlgebra[F] safer than PeriodSeries[F]?"
   ]
  },
  {
   "cell_type": "code",
   "execution_count": null,
   "metadata": {},
   "outputs": [],
   "source": [
    "stocks.reify.upSample(Frequency.Daily).rollVol().plot()"
   ]
  },
  {
   "cell_type": "markdown",
   "metadata": {},
   "source": [
    "### Yes"
   ]
  },
  {
   "cell_type": "code",
   "execution_count": null,
   "metadata": {},
   "outputs": [],
   "source": [
    "stocks.reify.rollVol().upSample(Frequency.Daily).plot()"
   ]
  },
  {
   "cell_type": "markdown",
   "metadata": {},
   "source": [
    "### Questions\n",
    "1. Can we catch any more bad PeriodSeries math at runtime? \n",
    "2. What about compile-time?\n",
    "3. What about well-typed runtime-errors (`Either` or `Try`)"
   ]
  },
  {
   "cell_type": "markdown",
   "metadata": {},
   "source": [
    "### Summary\n",
    "1. ~Promoted frequency errors to compile-time.~\n",
    "2. ~Promote bad math to runtime errors.~\n",
    "3. Finally a simple trick will give us Provenance"
   ]
  },
  {
   "cell_type": "markdown",
   "metadata": {},
   "source": [
    "### Scala functions lose their name\n",
    "### Make a tiny eDSL to allow them to keep their names"
   ]
  },
  {
   "cell_type": "code",
   "execution_count": null,
   "metadata": {},
   "outputs": [],
   "source": [
    "  sealed trait Lambda[A] {\n",
    "    def desc: String\n",
    "    def f: A\n",
    "  }\n",
    "  case class Unary[A,B](desc: String, f: A => B) extends Lambda[A => B]\n",
    "  case class Binary[A, B, C](desc: String, f: (A, B) => C) extends Lambda[(A, B) => C]"
   ]
  },
  {
   "cell_type": "code",
   "execution_count": null,
   "metadata": {},
   "outputs": [],
   "source": [
    "  sealed trait PeriodSeriesAlgebra[F <: Frequency] {\n",
    "    def eval: PeriodSeries[F] = this match {\n",
    "      case Roll(Upsample(_, _, _), _, _) =>\n",
    "        throw new AssertionError(\"Attempting to take a rolling window stats over an interpolated series, you probably want to switch the order of operations here\")\n",
    "      case Roll(self, namedfun, window) => self.eval.roll(namedfun.f, window)\n",
    "      case Upsample(self, newfreq, gt) => self.eval.upSample(newfreq = newfreq)(gt)\n",
    "      case Downsample(self, newfreq, gt) => self.eval.downSample(newfreq = newfreq)(gt)\n",
    "      case Intersect(self, other, namedop) => self.eval.intersection(other.eval, namedop.f)\n",
    "      case Pure(self) => self\n",
    "    }\n",
    "  }\n",
    "  case class Roll[F <: Frequency](self: PeriodSeriesAlgebra[F], f: Lambda[PeriodSeries[F] => Double], window: Int) extends PeriodSeriesAlgebra[F]\n",
    "  case class Upsample[F <: Frequency, FF <: Frequency](self: PeriodSeriesAlgebra[F], freq: FrequencyValue[FF], gt: Gt[FF, F]) extends PeriodSeriesAlgebra[FF]\n",
    "  case class Downsample[F <: Frequency, FF <: Frequency](self: PeriodSeriesAlgebra[F], freq: FrequencyValue[FF], gt: Gt[F, FF]) extends PeriodSeriesAlgebra[FF]\n",
    "  case class Intersect[F <: Frequency](self: PeriodSeriesAlgebra[F], other: PeriodSeriesAlgebra[F], op: Lambda[(Double, Double) => Double]) extends PeriodSeriesAlgebra[F]\n",
    "  case class Pure[F <: Frequency](p: PeriodSeries[F]) extends PeriodSeriesAlgebra[F]\n",
    "\n",
    "  // Some Syntactic sugar for our eDSL\n",
    "  implicit class PeridSeriesPure[F <: Frequency](ps: PeriodSeries[F]){\n",
    "    def reify: PeriodSeriesAlgebra[F] = Pure(ps)\n",
    "  }\n",
    "  implicit class PeriodSeriesAlgebraSyntax[F <: Frequency](self: PeriodSeriesAlgebra[F]) {\n",
    "    def rollVol(window: Int = 10): PeriodSeriesAlgebra[F] = Roll(self, Unary(\"Volatility\", _.vol), window)\n",
    "    def upSample[FF <: Frequency](newfreq: FrequencyValue[FF])(implicit ev: Gt[FF, F]): PeriodSeriesAlgebra[FF] = Upsample[F, FF](self, newfreq, ev)\n",
    "    def downSample[FF <: Frequency](newfreq: FrequencyValue[FF])(implicit ev: Gt[F, FF]): PeriodSeriesAlgebra[FF] = Downsample[F, FF](self, newfreq, ev)\n",
    "    def +(other: PeriodSeriesAlgebra[F]): PeriodSeriesAlgebra[F] = Intersect(self, other, Binary(\"Add\", _ + _))\n",
    "    def -(other: PeriodSeriesAlgebra[F]): PeriodSeriesAlgebra[F] = Intersect(self, other, Binary(\"Sub\", _ - _))\n",
    "    def *(other: PeriodSeriesAlgebra[F]): PeriodSeriesAlgebra[F] = Intersect(self, other, Binary(\"Mult\", _ * _))\n",
    "    def /(other: PeriodSeriesAlgebra[F]): PeriodSeriesAlgebra[F] = Intersect(self, other, Binary(\"Div\", _ / _))\n",
    "    def plot() = self.eval.plot()\n",
    "  }\n"
   ]
  },
  {
   "cell_type": "markdown",
   "metadata": {},
   "source": [
    "## Provenance =  State"
   ]
  },
  {
   "cell_type": "code",
   "execution_count": null,
   "metadata": {},
   "outputs": [],
   "source": [
    "  // Provenance is just a trace\n",
    "  type Provenance[F <: Frequency] = State[Seq[String], PeriodSeries[F]]\n",
    "\n",
    "  implicit class PeriodSeriesEvalWithState[F <: Frequency](self: PeriodSeriesAlgebra[F]) {\n",
    "    def evalWithProvenance: Provenance[F] = self match {\n",
    "      case Roll(Upsample(_, _, _), _, _) =>\n",
    "        throw new AssertionError(\"Attempting to take a rolling window stats over an interpolated series, you probably want to switch the order of operations here\")\n",
    "      case Roll(self, Unary(desc, f), window) =>\n",
    "        self.evalWithProvenance.flatMap { series =>\n",
    "          State(st => (st :+ s\"Roll with $desc and window = $window\", series.roll(f, window)))\n",
    "        }\n",
    "      case Upsample(self, newfreq, gt) =>\n",
    "        self.evalWithProvenance.flatMap { series =>\n",
    "          val upsampled = series.upSample(newfreq)(gt)\n",
    "          State(st => (st :+ s\"Up sample to $newfreq\", upsampled))\n",
    "        }\n",
    "      case Downsample(self, newfreq, gt) =>\n",
    "        self.evalWithProvenance.flatMap { series =>\n",
    "          val downsampled = series.downSample(newfreq)(gt)\n",
    "          State(st => (st :+ s\"Down sample to $newfreq\", downsampled))\n",
    "        }\n",
    "      case Intersect(self, other, Binary(desc, f)) =>\n",
    "        self.evalWithProvenance.flatMap { series =>\n",
    "          other.evalWithProvenance.flatMap { other =>\n",
    "            State(st => (st :+ s\"Combine with $desc and $other\", series.intersection(other, f)))\n",
    "          }\n",
    "        }\n",
    "      case Pure(self) => State.pure(self)\n",
    "    }\n",
    "\n",
    "    def provenance = evalWithProvenance.run(Seq()).value._1\n",
    "    def eval = evalWithProvenance.run(Seq()).value._2\n",
    "  }"
   ]
  },
  {
   "cell_type": "markdown",
   "metadata": {},
   "source": [
    "## Let's try this "
   ]
  },
  {
   "cell_type": "code",
   "execution_count": null,
   "metadata": {},
   "outputs": [],
   "source": [
    "stocks.reify.rollVol().upSample(Frequency.Daily).eval.plot()\n",
    "\n",
    "// stocks.reify.upSample(Frequency.Daily).rollVol().provenance()\n",
    "// Scala notebook doesn't like this, show it in IntelliJ"
   ]
  },
  {
   "cell_type": "code",
   "execution_count": null,
   "metadata": {},
   "outputs": [],
   "source": [
    "stocks.reify.rollVol().upSample(Frequency.Daily).provenance\n",
    "// Scala notebook doesn't like this, show it in IntelliJ"
   ]
  },
  {
   "cell_type": "markdown",
   "metadata": {},
   "source": [
    "## Summary of PeriodSeriesAlgebra (eDSL A)\n",
    "1. Promoted frequency errors to compile-time.\n",
    "2. Promote bad math to runtime errors.\n",
    "3. Finally a simple trick will give us Provenance"
   ]
  },
  {
   "cell_type": "markdown",
   "metadata": {},
   "source": [
    "## Questions?"
   ]
  }
 ],
 "metadata": {
  "kernelspec": {
   "display_name": "Scala",
   "language": "scala",
   "name": "scala"
  },
  "language_info": {
   "codemirror_mode": "text/x-scala",
   "file_extension": ".scala",
   "mimetype": "",
   "name": "Scala",
   "nbconverter_exporter": "",
   "version": "2.11.12"
  },
  "toc": {
   "base_numbering": 1,
   "nav_menu": {},
   "number_sections": false,
   "sideBar": false,
   "skip_h1_title": false,
   "title_cell": "Table of Contents",
   "title_sidebar": "Contents",
   "toc_cell": false,
   "toc_position": {},
   "toc_section_display": false,
   "toc_window_display": false
  }
 },
 "nbformat": 4,
 "nbformat_minor": 2
}
