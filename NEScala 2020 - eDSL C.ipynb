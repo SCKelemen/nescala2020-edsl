{
 "cells": [
  {
   "cell_type": "markdown",
   "metadata": {},
   "source": [
    "## eDSL C: Layouting financial reports\n",
    "#### Lef Ioannidis (@elefthei) : Investment Engineer, Bridgewater Associates"
   ]
  },
  {
   "cell_type": "markdown",
   "metadata": {},
   "source": [
    "### eDSLs A, B introduced more types to maintain the logic semantics."
   ]
  },
  {
   "cell_type": "code",
   "execution_count": 1,
   "metadata": {},
   "outputs": [
    {
     "data": {
      "application/vnd.jupyter.widget-view+json": {
       "model_id": "",
       "version_major": 2,
       "version_minor": 0
      },
      "method": "display_data"
     },
     "metadata": {},
     "output_type": "display_data"
    },
    {
     "data": {
      "application/vnd.jupyter.widget-view+json": {
       "model_id": "e5e91125-f6b0-4a97-b88a-948a62099781",
       "version_major": 2,
       "version_minor": 0
      },
      "method": "display_data"
     },
     "metadata": {},
     "output_type": "display_data"
    },
    {
     "data": {
      "application/vnd.jupyter.widget-view+json": {
       "model_id": "",
       "version_major": 2,
       "version_minor": 0
      },
      "method": "display_data"
     },
     "metadata": {},
     "output_type": "display_data"
    },
    {
     "data": {
      "application/vnd.jupyter.widget-view+json": {
       "model_id": "b34c3bbb-bcd4-4214-be39-c1ef34e81c55",
       "version_major": 2,
       "version_minor": 0
      },
      "method": "display_data"
     },
     "metadata": {},
     "output_type": "display_data"
    },
    {
     "data": {
      "text/plain": [
       "import org.joda.time.DateTime\n",
       "import cats.Monoid\n",
       "import cats.implicits._\n"
      ]
     },
     "execution_count": 1,
     "metadata": {},
     "output_type": "execute_result"
    }
   ],
   "source": [
    "%classpath add mvn org.typelevel cats-core_2.12 2.1.1\n",
    "%classpath add mvn joda-time joda-time 2.10.5\n",
    "import org.joda.time.DateTime\n",
    "import cats.Monoid\n",
    "import cats.implicits._"
   ]
  },
  {
   "cell_type": "markdown",
   "metadata": {},
   "source": [
    "## But sometimes we want to **let go** of semantics in favor of better syntax."
   ]
  },
  {
   "cell_type": "markdown",
   "metadata": {},
   "source": [
    "## Case study: Formatting financial reports\n",
    "##### \"Everything is a widget!\" "
   ]
  },
  {
   "cell_type": "code",
   "execution_count": null,
   "metadata": {},
   "outputs": [],
   "source": [
    "sealed trait Widget\n",
    "case class Section(n: Int, s: Seq[Widget]) extends Widget\n",
    "case class Chart(chart: Chart) extends Widget\n",
    "case class Table(table: Table) extends Widget\n",
    "case class Plot(plot: Plot) extends Widget\n",
    "case class Markdown(s: String) extends Widget"
   ]
  },
  {
   "cell_type": "markdown",
   "metadata": {},
   "source": [
    "### Let go of parametricity to get nicer syntax"
   ]
  },
  {
   "cell_type": "code",
   "execution_count": null,
   "metadata": {},
   "outputs": [],
   "source": [
    "implicit class ComposeWidgets(first: Widget) {\n",
    "    def <|>(second: Widget): Widget = Section(2, Seq(first, second))\n",
    "    def <+>(second: Widget): Widget = Section(1, Seq(first, second))\n",
    "    def <|>(second: String): Widget = first <|> Markdown(second)\n",
    "    def <+>(second: String): Widget = first <+> Markdown(second)\n",
    "}\n",
    "\n",
    "implicit class StringWidgets(s: String) {\n",
    "    def <|>(second: Widget): Widget = Markdown(s) <|> second\n",
    "    def <+>(second: Widget): Widget = Markdown(s) <+> second\n",
    "}\n",
    "implicit class ComposeSeqWidgets(s: Iterable[Widget]){\n",
    "    def horizontally: Widget = Section(s.size, s.toSeq)\n",
    "    def vertically: Widget = Section(1, s.toSeq)\n",
    "}"
   ]
  },
  {
   "cell_type": "markdown",
   "metadata": {},
   "source": [
    "## Here's how it will look like"
   ]
  },
  {
   "cell_type": "markdown",
   "metadata": {},
   "source": [
    "![title](img/widgets.png)"
   ]
  },
  {
   "cell_type": "markdown",
   "metadata": {},
   "source": [
    "### All type information is lost (and that's ok)"
   ]
  },
  {
   "cell_type": "markdown",
   "metadata": {},
   "source": [
    "### Let's also add currying for Maps, it will be helpful syntax."
   ]
  },
  {
   "cell_type": "code",
   "execution_count": null,
   "metadata": {},
   "outputs": [],
   "source": [
    "// Dummy implicits help overcome type erasure, nice hack but would be even better if Scala did not have this problem\n",
    "final class DummyImplicit1 ()\n",
    "implicit val dummy1 = new DummyImplicit1\n",
    "final class DummyImplicit2 ()\n",
    "implicit val dummy2 = new DummyImplicit2\n",
    "\n",
    "// No erasure now\n",
    "implicit class Map2Curry[A,B,V](m: Map[(A,B), V]) {\n",
    "    def apply(a: A)(implicit dummy1: DummyImplicit1): Map[B, V] =\n",
    "      m.groupBy(_._1._1)(a).map { case (k,v) => (k._2, v) }\n",
    "    def apply(b: B)(implicit dummy2: DummyImplicit2): Map[A, V] =\n",
    "      m.groupBy(_._1._2)(b).map { case (k,v) => (k._1, v) }\n",
    "}"
   ]
  },
  {
   "cell_type": "markdown",
   "metadata": {},
   "source": [
    "### Bring back PeriodSeries from eDSL A"
   ]
  },
  {
   "cell_type": "code",
   "execution_count": null,
   "metadata": {},
   "outputs": [],
   "source": [
    "  sealed trait Frequency\n",
    "  sealed abstract class FrequencyValue[F <: Frequency] {\n",
    "    def days: Int\n",
    "  }\n",
    "\n",
    "  object Frequency {\n",
    "    sealed trait Daily extends Frequency\n",
    "    sealed trait Monthly extends Frequency\n",
    "    sealed trait Quarterly extends Frequency\n",
    "    sealed trait Yearly extends Frequency\n",
    "\n",
    "    case object Daily extends FrequencyValue[Daily] {\n",
    "      override def days: Int = 1\n",
    "    }\n",
    "    case object Monthly extends FrequencyValue[Monthly] {\n",
    "      override def days: Int = 30\n",
    "    }\n",
    "    case object Quarterly extends FrequencyValue[Quarterly] {\n",
    "      override def days: Int = 30 * 4\n",
    "    }\n",
    "    case object Yearly extends FrequencyValue[Yearly] {\n",
    "      override def days: Int = 365\n",
    "    }\n",
    "  }\n",
    "case class PeriodSeries[F <: Frequency](data: Array[Double], frequency: FrequencyValue[F], base: DateTime)"
   ]
  },
  {
   "cell_type": "markdown",
   "metadata": {},
   "source": [
    "## Then I wrote some extensions for Maps, so we can connect this to eDSL B"
   ]
  },
  {
   "cell_type": "code",
   "execution_count": null,
   "metadata": {},
   "outputs": [],
   "source": [
    "implicit class Map1Plot[A, F <: Frequency](m: Map[A, PeriodSeries[F]]) {\n",
    "    def toChart: Widget = ??? // Some bridgwater UI specific code that's not very interesting\n",
    "    def toPlotChart: Widget = ???\n",
    "}\n",
    "\n",
    "implicit class Map2Plot[A,B, F <: Frequency](m: Map[(A,B), PeriodSeries[F]]) {\n",
    "    def toCharts: Widget = {\n",
    "        def charts = for {\n",
    "           key <- m.keys\n",
    "        } yield m(key._1).toChart\n",
    "        charts.horizontally\n",
    "    }\n",
    "    def toTable: Widget = ???\n",
    "}"
   ]
  },
  {
   "cell_type": "markdown",
   "metadata": {},
   "source": [
    "### Finished eDSL use looks like this"
   ]
  },
  {
   "cell_type": "code",
   "execution_count": null,
   "metadata": {},
   "outputs": [],
   "source": [
    "type Company = String\n",
    "type Code = DateTime\n",
    "\n",
    "def CompanyReport(company: Company): Widget = {\n",
    "    def companyPrices[F <: Frequency]: Map[(Company, Code), PeriodSeries[F]] = ???\n",
    "    \n",
    "    val dotchart: Widget = companyPrices(company).toPlotChart\n",
    "    val table: Widget = companyPrices.toTable\n",
    "    val charts: Widget = companyPrices.toCharts\n",
    "    \n",
    "    // Layouting with nice operators and no types\n",
    "    s\"$company three most important economic events\" <+> \n",
    "      (table <|> dotchart) <+> \n",
    "      charts\n",
    "}"
   ]
  },
  {
   "cell_type": "markdown",
   "metadata": {},
   "source": [
    "### Questions?"
   ]
  },
  {
   "cell_type": "markdown",
   "metadata": {},
   "source": [
    "![title](img/report.jpg)"
   ]
  }
 ],
 "metadata": {
  "kernelspec": {
   "display_name": "Scala",
   "language": "scala",
   "name": "scala"
  },
  "language_info": {
   "codemirror_mode": "text/x-scala",
   "file_extension": ".scala",
   "mimetype": "",
   "name": "Scala",
   "nbconverter_exporter": "",
   "version": "2.11.12"
  },
  "toc": {
   "base_numbering": 1,
   "nav_menu": {},
   "number_sections": false,
   "sideBar": false,
   "skip_h1_title": false,
   "title_cell": "Table of Contents",
   "title_sidebar": "Contents",
   "toc_cell": false,
   "toc_position": {},
   "toc_section_display": false,
   "toc_window_display": false
  }
 },
 "nbformat": 4,
 "nbformat_minor": 2
}
