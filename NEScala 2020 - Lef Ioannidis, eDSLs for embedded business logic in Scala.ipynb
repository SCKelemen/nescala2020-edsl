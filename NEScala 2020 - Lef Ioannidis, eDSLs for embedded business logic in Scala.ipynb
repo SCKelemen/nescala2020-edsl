{
 "cells": [
  {
   "cell_type": "markdown",
   "metadata": {},
   "source": [
    "## Three eDSLs for business logic\n",
    "#####  \"I wanted to do more things with my language, so I had no choice but to make it smaller\" - Connor McBride (@pigworker)\n",
    "#### Lef Ioannidis (@elefthei) : Investment Engineer, Bridgewater Associates"
   ]
  },
  {
   "cell_type": "markdown",
   "metadata": {},
   "source": [
    "### First some minimal dependencies."
   ]
  },
  {
   "cell_type": "code",
   "execution_count": 1,
   "metadata": {},
   "outputs": [
    {
     "data": {
      "application/vnd.jupyter.widget-view+json": {
       "model_id": "",
       "version_major": 2,
       "version_minor": 0
      },
      "method": "display_data"
     },
     "metadata": {},
     "output_type": "display_data"
    },
    {
     "data": {
      "application/vnd.jupyter.widget-view+json": {
       "model_id": "0965ad16-7964-4185-bd27-804fd36912cd",
       "version_major": 2,
       "version_minor": 0
      },
      "method": "display_data"
     },
     "metadata": {},
     "output_type": "display_data"
    },
    {
     "data": {
      "application/vnd.jupyter.widget-view+json": {
       "model_id": "",
       "version_major": 2,
       "version_minor": 0
      },
      "method": "display_data"
     },
     "metadata": {},
     "output_type": "display_data"
    },
    {
     "data": {
      "application/vnd.jupyter.widget-view+json": {
       "model_id": "a5f3f9a5-7561-4dfe-a3ef-c70fd2d7af09",
       "version_major": 2,
       "version_minor": 0
      },
      "method": "display_data"
     },
     "metadata": {},
     "output_type": "display_data"
    },
    {
     "data": {
      "text/plain": [
       "$line25.$read$$iw$$iw$$iw$$iw$$iw$$iw$$iw$$iw$$iw$$iw$$iw$$iw$$iw$$iw$$iw$$iw$$iw$$iw$$iw$$iw$$anon$1@66686185"
      ]
     },
     "execution_count": 1,
     "metadata": {},
     "output_type": "execute_result"
    }
   ],
   "source": [
    "%classpath add mvn joda-time joda-time 2.10.5\n",
    "%classpath add mvn org.typelevel cats-core_2.12 2.1.1\n",
    "// Some imports first\n",
    "import org.joda.time.DateTime\n",
    "import org.joda.time.Duration\n",
    "import org.joda.time.format.DateTimeFormat\n",
    "import java.io.File\n",
    "import org.joda.time.format.DateTimeFormatter\n",
    "import scala.io.Source\n",
    "import scala.collection.mutable.ArrayBuffer\n",
    "import scala.math.Ordered._\n",
    "\n",
    "// Dates are ordered\n",
    "implicit val DateTimeOrdered = new Ordering[DateTime] {\n",
    "  override def compare(x: DateTime, y: DateTime): Int = x.getMillis.compare(y.getMillis)\n",
    "}"
   ]
  },
  {
   "cell_type": "markdown",
   "metadata": {},
   "source": [
    "### We will be working with Period series.\n",
    "\n",
    "#### PeriodSeries are Arrays of Doubles. Each number corresponds to a constant-frequency interval and they start at some base date. "
   ]
  },
  {
   "cell_type": "markdown",
   "metadata": {},
   "source": [
    "### Let's define a Frequency for our PeriodSeries"
   ]
  },
  {
   "cell_type": "code",
   "execution_count": null,
   "metadata": {},
   "outputs": [],
   "source": [
    "object Frequency extends Enumeration {\n",
    "  type Inner = Value\n",
    "  // Can be one of the following\n",
    "  val Daily, Monthly, Quarterly, Yearly = Value\n",
    "  def fromString(s: String): Frequency =\n",
    "    s match {\n",
    "      case \"Yearly\" => Yearly\n",
    "      case \"Monthly\" => Monthly\n",
    "      case \"Quarterly\" => Quarterly\n",
    "      case \"Daily\" => Daily\n",
    "    }\n",
    "}\n",
    "// Alias for Frequency type\n",
    "type Frequency = Frequency.Inner\n",
    "// Days is the smallest unit\n",
    "implicit class FreqToDays(f: Frequency) {\n",
    "  def days(): Int =\n",
    "    f match {\n",
    "      case Frequency.Monthly => 30\n",
    "      case Frequency.Quarterly => 30 * 3\n",
    "      case Frequency.Yearly => 365\n",
    "      case _ => 1\n",
    "    }\n",
    "}\n",
    "// Frequencies are ordered\n",
    "implicit val FrequencyOrdered = new Ordering[Frequency]{\n",
    "  override def compare(a: Frequency, b: Frequency): Int = a.days.compare(b.days)\n",
    "}"
   ]
  },
  {
   "cell_type": "markdown",
   "metadata": {},
   "source": [
    "### Let's start with a naive definition for PeriodSeries"
   ]
  },
  {
   "cell_type": "code",
   "execution_count": null,
   "metadata": {},
   "outputs": [],
   "source": [
    "case class PeriodSeries(data: Array[Double], frequency: Frequency, base: DateTime)"
   ]
  },
  {
   "cell_type": "code",
   "execution_count": null,
   "metadata": {},
   "outputs": [],
   "source": [
    "// Load CSV data\n",
    "object CSV {\n",
    "  def load(csv: String): PeriodSeries = {\n",
    "    val file = Source.fromFile(csv).getLines().toSeq\n",
    "    val freq = Frequency.fromString(file.head)\n",
    "    val base = DateTime.parse(file.tail.head, DateTimeFormat.forPattern(\"yyyy\"))\n",
    "    val data = file.tail.tail.map(_.toDouble).toArray\n",
    "    new PeriodSeries(data, freq, base)\n",
    "  }\n",
    "}\n",
    "\n",
    "// Plot them\n",
    "implicit class PeriodSeriesPlotting(ps: PeriodSeries) {\n",
    "  def toTicks: Seq[(DateTime, Double)] = \n",
    "    ps.data.toIndexedSeq.zipWithIndex.map { \n",
    "      case (d, i) => (ps.base.plusDays(ps.frequency.days * i), d) \n",
    "    }\n",
    "\n",
    "  def plot(name: String, yname: String): SimpleTimePlot = \n",
    "    new SimpleTimePlot {\n",
    "      title = name\n",
    "      data = toTicks.map { case(t, d) => Map(yname -> d, \"time\" -> t.toDate()) }\n",
    "      columns = Seq(yname)\n",
    "    }\n",
    "  def plot(): SimpleTimePlot = plot(\"Timeseries\", \"y\")\n",
    "}"
   ]
  },
  {
   "cell_type": "markdown",
   "metadata": {},
   "source": [
    "### PeriodSeries can represent a wide range of financial data.\n",
    "#### For example: Prices of ACME stocks over a period of time."
   ]
  },
  {
   "cell_type": "code",
   "execution_count": null,
   "metadata": {},
   "outputs": [],
   "source": [
    "val stocks: PeriodSeries = CSV.load(\"acme-stocks/stocks-2.txt\")\n",
    "stocks.plot(\"Acme Stocks (2018)\", \"Prices\")"
   ]
  },
  {
   "cell_type": "markdown",
   "metadata": {},
   "source": [
    "### Cool! Of course we want to compute some elementary statistics about our PeriodSeries"
   ]
  },
  {
   "cell_type": "code",
   "execution_count": null,
   "metadata": {},
   "outputs": [],
   "source": [
    "implicit class PeriodSeriesMath(ps: PeriodSeries) {\n",
    "  import scala.math.Ordered._\n",
    "  def last: Double = ps.data.last\n",
    "  def first: Double = ps.data.head\n",
    "  def enddate: DateTime =\n",
    "    ps.base.plusDays(ps.frequency.days() * ps.data.length)\n",
    "  def vol: Double = {\n",
    "    val avg = ps.data.sum / ps.data.length\n",
    "    math.sqrt(ps.data.map(a => math.pow(a - avg, 2)).sum / ps.data.length)\n",
    "  }\n",
    "  def roll(f: PeriodSeries => Double, window: Int = 2): PeriodSeries = {\n",
    "    require(ps.data.length > window, \"Window too big for small dataset\")\n",
    "    var i = 0\n",
    "    val result: ArrayBuffer[Double] = ArrayBuffer()\n",
    "    while (i + window < ps.data.length) {\n",
    "      val newps = ps.copy(data = ps.data.slice(i, i + window))\n",
    "      result.append(f(newps))\n",
    "      i += 1\n",
    "    }\n",
    "    ps.copy(data = result.toArray)\n",
    "  }\n",
    "  def rollVol(window: Int = 2): PeriodSeries = roll(_.vol, window)\n",
    "  def intersect(other: PeriodSeries, f: (Double, Double) => Double): PeriodSeries = {\n",
    "    val ord = Ordering[DateTime]\n",
    "    require(ps.frequency == other.frequency, \"Cannot intersect PeriodSeries of different frequencies\")\n",
    "    require(ord.max(ps.base, other.base) <= ord.min(ps.enddate, other.enddate), \"Cannot add PeriodSeries that do not overlap\")\n",
    "    ps.copy(data = ps.data.zip(other.data).map(p => f(p._1, p._2)), base = ord.max(ps.base, other.base))\n",
    "  }\n",
    "  def +(other: PeriodSeries): PeriodSeries = intersect(other, _ + _)\n",
    "  def -(other: PeriodSeries): PeriodSeries = intersect(other, _ - _)\n",
    "  def *(other: PeriodSeries): PeriodSeries = intersect(other, _ * _)\n",
    "  def /(other: PeriodSeries): PeriodSeries = intersect(other, _ / _)\n",
    "}"
   ]
  },
  {
   "cell_type": "code",
   "execution_count": null,
   "metadata": {},
   "outputs": [],
   "source": [
    "stocks.vol"
   ]
  },
  {
   "cell_type": "code",
   "execution_count": null,
   "metadata": {},
   "outputs": [],
   "source": [
    "stocks.rollVol(12).plot()"
   ]
  },
  {
   "cell_type": "markdown",
   "metadata": {},
   "source": [
    "### Let's give your PeriodSeries some more powers\n",
    "#### Upsampling, Downsampling"
   ]
  },
  {
   "cell_type": "code",
   "execution_count": null,
   "metadata": {},
   "outputs": [],
   "source": [
    "  implicit class PeriodSeriesExtensions(ps: PeriodSeries) {\n",
    "    import scala.math.Ordered._\n",
    "    def downSample(newfreq: Frequency) : PeriodSeries = {\n",
    "      require(newfreq >= ps.frequency, \"Cannot down-sample with higher frequency\")\n",
    "      val step = (newfreq.days / ps.frequency.days).toInt\n",
    "      def groupByNum[A](s: Iterable[A], n: Int): Iterable[Iterable[A]] =\n",
    "        if(n == 0) {\n",
    "          Seq()\n",
    "        } else if(s.size <= n) {\n",
    "          Seq(s)\n",
    "        } else {\n",
    "          val (left, right) = s.splitAt(n)\n",
    "          Seq(left) ++ groupByNum(right.tail, n)\n",
    "        }\n",
    "      ps.copy(data = groupByNum(ps.data, step).map(data => data.sum / data.size).toArray, frequency = newfreq)\n",
    "    }\n",
    "\n",
    "    private def interpolate(first: Double, second: Double, steps: Int): Array[Double] =\n",
    "      (0 to steps).map(_ * (second - first) / steps).map(_ + first).toArray\n",
    "\n",
    "    def upSample(newfreq: Frequency): PeriodSeries = {\n",
    "      require(newfreq <= ps.frequency, \"Cannot up-sample with lower frequency\")\n",
    "      val steps = ps.frequency.days / newfreq.days\n",
    "      val seq = ps.data.toIndexedSeq.zipWithIndex.flatMap {\n",
    "        case (d, i) if i < ps.data.length - 1 => interpolate(d, ps.data(i + 1), steps)\n",
    "        case (d, _) => Array(d)\n",
    "      }.toArray\n",
    "      ps.copy(data = seq, frequency = newfreq)\n",
    "    }\n",
    "  }"
   ]
  },
  {
   "cell_type": "markdown",
   "metadata": {},
   "source": [
    "### So far so good! Now let's experiment with our new Period Series implementation.\n",
    "#### Things to consider\n",
    "1. Are the results correct?\n",
    "2. What are the business logic pitfalls and how can we prevent them?\n",
    "3. We would like full **Provenance**, is it even possible?"
   ]
  },
  {
   "cell_type": "markdown",
   "metadata": {},
   "source": [
    "### How about the following two transformations?\n",
    "#### Did you expect them to be different? What happened?"
   ]
  },
  {
   "cell_type": "code",
   "execution_count": null,
   "metadata": {},
   "outputs": [],
   "source": [
    "stocks.upSample(Frequency.Daily).rollVol(12).plot()"
   ]
  },
  {
   "cell_type": "code",
   "execution_count": null,
   "metadata": {},
   "outputs": [],
   "source": [
    "stocks.rollVol(12).upSample(Frequency.Daily).plot()"
   ]
  },
  {
   "cell_type": "markdown",
   "metadata": {},
   "source": [
    "### Can we use types so the wrong business logic does not typecheck?\n",
    "### How about all these runtime errors?"
   ]
  },
  {
   "cell_type": "code",
   "execution_count": null,
   "metadata": {},
   "outputs": [],
   "source": [
    "val stocks = CSV.load(\"acme-stocks/stocks-1.txt\")\n",
    "val other = CSV.load(\"acme-stocks/stocks-1-quarterly.txt\")"
   ]
  },
  {
   "cell_type": "code",
   "execution_count": null,
   "metadata": {},
   "outputs": [],
   "source": [
    "stocks / other"
   ]
  },
  {
   "cell_type": "code",
   "execution_count": null,
   "metadata": {},
   "outputs": [],
   "source": [
    "stocks - other"
   ]
  },
  {
   "cell_type": "markdown",
   "metadata": {},
   "source": [
    "### Runtime errors\n",
    "1. Waste time and concentration\n",
    "2. Can trigger at the worst times and are hard to document.\n",
    "3. Typed error approaches like Try[T] and ZIO are great, but still have to think about runtime errors all the time.\n",
    "4. **Compile-time errors >> Runtime errors** when possible\n",
    "5. Sometimes it's a trade-off complexity/correctness"
   ]
  }
 ],
 "metadata": {
  "kernelspec": {
   "display_name": "Scala",
   "language": "scala",
   "name": "scala"
  },
  "language_info": {
   "codemirror_mode": "text/x-scala",
   "file_extension": ".scala",
   "mimetype": "",
   "name": "Scala",
   "nbconverter_exporter": "",
   "version": "2.11.12"
  },
  "toc": {
   "base_numbering": 1,
   "nav_menu": {},
   "number_sections": false,
   "sideBar": false,
   "skip_h1_title": false,
   "title_cell": "Table of Contents",
   "title_sidebar": "Contents",
   "toc_cell": false,
   "toc_position": {},
   "toc_section_display": false,
   "toc_window_display": false
  }
 },
 "nbformat": 4,
 "nbformat_minor": 2
}
